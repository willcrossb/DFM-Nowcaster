{
 "cells": [
  {
   "cell_type": "code",
   "execution_count": 2,
   "metadata": {},
   "outputs": [],
   "source": [
    "\"\"\"\n",
    "\n",
    "@author: Gene Kindberg-Hanlon, genekindberg @ googlemail .com\n",
    "Draft code - please report errors, questions and suggestions. \n",
    "\"\"\"\n",
    "\n",
    "#Using Jupyter framework to better understand this code\n",
    "\n",
    "import pandas as pd\n",
    "import os\n",
    "import matplotlib.pyplot as plt\n",
    "import numpy as np\n",
    "import DFM as DF\n",
    "\n",
    "###########################################################################################\n",
    "# Very simple data example of nowcasting US quarterly GDP using 3 factors (of only two series each) using FRED data.\n",
    "# Most nowcasting programs will use PMIs and other proprierary series that cannot be posted publicaly\n",
    "# This code will also work with \n",
    "\n",
    "#os.chdir('/home/autumn/Documents/Nowcasting/MIDAS')\n",
    "dirname = os. getcwd()\n",
    "#concatenates your current directory with your desired subdirectory\n",
    "excel_file = os.path.join(dirname, r'ImportFile.xlsx')\n",
    "\n",
    "####################################################\n",
    "# Import data\n",
    "GDP_dat = pd.read_excel(excel_file, sheet_name='GDP')\n",
    "Emp_dat = pd.read_excel(excel_file, sheet_name='Emp')\n",
    "Cons_dat = pd.read_excel(excel_file, sheet_name='Cons')\n",
    "IPExp_dat = pd.read_excel(excel_file, sheet_name='IPExp')\n"
   ]
  },
  {
   "cell_type": "code",
   "execution_count": 3,
   "metadata": {},
   "outputs": [],
   "source": [
    "GDP = GDP_dat['GDP'][0:].values.reshape(-1,1) # GDP data for nowcasting\n",
    "Dates = GDP_dat.Date\n",
    "\n",
    "                        ## Make list of pandas monthly frames\n",
    "MonthlyDat = [Emp_dat.drop(columns=['Date']), \n",
    "                        Cons_dat.drop(columns='Date'), IPExp_dat.drop(columns='Date')]\n",
    "\n",
    "MAterm = 0 # turn on or off the errors in the observation equations (Var-Cov R) taking an MA specification. (eps_r = rho*eps_e(t-1)+eps)\n",
    "lags = 6 # state transition equation number of lags\n",
    "lagsH = 1 # Number of lags to use in observation equation (of the factors)\n",
    "K = 3 # number of non GDP factors, (entries in monthlydat)\n",
    "Qs = 1 # number of GDP factors - Do not adjust number of GDP series - possibly this will be adapted in the future - only works with one for now.\n",
    "normGDP = 1 # estimate model with a normalized GDP series\n",
    "# Initialise the factor model\n",
    "DynamicFac = DF.DynamicFactorModel(GDP, MonthlyDat, Dates, K, Qs, lags, lagsH, MAterm, normGDP)"
   ]
  },
  {
   "cell_type": "code",
   "execution_count": null,
   "metadata": {},
   "outputs": [],
   "source": [
    "burn = 50 # Number of throw-away initial draws (In practice may burn 100 and save 1000, but will take longer)\n",
    "save = 50 # Gibbs draws to save\n",
    "DynamicFac.estimateGibbs(burn, save) # Estimate model using data to last quarterly GDP datapoint\n",
    "DynamicFac.Nowcast(2008, 2) # Year to start nowcasting, how many quarters to nowcast\n",
    "\n",
    "print('Plot quasi-out of sample month 2 nowcasts against data (these use full estimation sample to estimate parameters and previous quarter state)')\n",
    "DynamicFac.PlotFcast(2) # Plot forecast \n",
    "\n",
    "np.set_printoptions(precision=3)\n",
    "\n",
    "print('View RMSEs, as current quarter, next quarter (columns), and months (1,2,3) of the quarter (rows).')\n",
    "print(DynamicFac.RMSE)  \n",
    "print('Series of current quarter nowcasts (quarters rows, columns month of each quarter)')\n",
    "print(DynamicFac.Fcast_current) \n",
    "print('Series of next quarter nowcasts (quarters rows, columns month of each quarter)')\n",
    "print(DynamicFac.Fcast_next)"
   ]
  }
 ],
 "metadata": {
  "kernelspec": {
   "display_name": "Python 3.9.12 ('base')",
   "language": "python",
   "name": "python3"
  },
  "language_info": {
   "codemirror_mode": {
    "name": "ipython",
    "version": 3
   },
   "file_extension": ".py",
   "mimetype": "text/x-python",
   "name": "python",
   "nbconvert_exporter": "python",
   "pygments_lexer": "ipython3",
   "version": "3.9.12"
  },
  "orig_nbformat": 4,
  "vscode": {
   "interpreter": {
    "hash": "bb21f767a211495abec8bf77423259a843a4f607ac418d71c8e2c640fac1142a"
   }
  }
 },
 "nbformat": 4,
 "nbformat_minor": 2
}
